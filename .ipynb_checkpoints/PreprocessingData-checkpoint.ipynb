{
 "cells": [
  {
   "cell_type": "code",
   "execution_count": null,
   "id": "92ee4d60",
   "metadata": {},
   "outputs": [],
   "source": []
  },
  {
   "cell_type": "code",
   "execution_count": 20,
   "id": "b9d71947",
   "metadata": {},
   "outputs": [],
   "source": [
    "import os\n",
    "import librosa\n",
    "import librosa.display\n",
    "import matplotlib.pyplot as plt\n",
    "import numpy as np\n",
    "import pandas as pd\n",
    "\n",
    "# Function to extract features from audio\n",
    "def extract_features(file_path):\n",
    "    try:\n",
    "        audio, sample_rate = librosa.load(file_path)\n",
    "        mfcc = librosa.feature.mfcc(y=audio, sr=sample_rate, n_mfcc=40)\n",
    "        mfcc_mean = np.mean(mfcc, axis=1)\n",
    "        mfcc_std = np.std(mfcc, axis=1)\n",
    "        spectral_contrast = librosa.feature.spectral_contrast(y=audio, sr=sample_rate)\n",
    "        spectral_contrast_mean = np.mean(spectral_contrast, axis=1)\n",
    "        chroma = librosa.feature.chroma_stft(y=audio, sr=sample_rate)\n",
    "        chroma_mean = np.mean(chroma, axis=1)\n",
    "        zero_crossing_rate = librosa.feature.zero_crossing_rate(audio)\n",
    "        zero_crossing_rate_mean = np.mean(zero_crossing_rate)\n",
    "\n",
    "        features = np.concatenate([mfcc_mean, mfcc_std, spectral_contrast_mean, chroma_mean, [zero_crossing_rate_mean]])\n",
    "        return features\n",
    "    except Exception as e:\n",
    "        print(f\"Error processing {file_path}: {e}\")\n",
    "        return None\n",
    "\n",
    "# Loading data paths\n",
    "data_path_dict = {\n",
    "    0: [\"background_sound/\" + file_path for file_path in os.listdir(\"background_sound/\")],\n",
    "    1: [\"audio_data/\" + file_path for file_path in os.listdir(\"audio_data/\")]\n",
    "}\n",
    "\n",
    "# Extracting features\n",
    "all_data = []\n",
    "for class_label, list_of_files in data_path_dict.items():\n",
    "    for single_file in list_of_files:\n",
    "        if os.path.isfile(single_file):  # Check if it's a file\n",
    "            features = extract_features(single_file)\n",
    "            if features is not None:\n",
    "                all_data.append([features, class_label])\n",
    "        else:\n",
    "            print(f\"{single_file} is not a valid audio file.\")\n",
    "\n",
    "# Creating DataFrame\n",
    "df = pd.DataFrame(all_data, columns=[\"feature\", \"class_label\"])\n",
    "\n",
    "# Saving DataFrame\n",
    "df.to_pickle(\"final_audio_data_csv/audio_data_extended.csv\")\n",
    "# df.to_csv(\"final_audio_data_csv/audio_data_extended.csv\", index=False)\n"
   ]
  },
  {
   "cell_type": "code",
   "execution_count": null,
   "id": "51f36e45",
   "metadata": {},
   "outputs": [],
   "source": []
  },
  {
   "cell_type": "code",
   "execution_count": null,
   "id": "2cd3f9eb",
   "metadata": {},
   "outputs": [],
   "source": []
  },
  {
   "cell_type": "code",
   "execution_count": null,
   "id": "50f58247",
   "metadata": {},
   "outputs": [],
   "source": []
  },
  {
   "cell_type": "code",
   "execution_count": null,
   "id": "5b13114c",
   "metadata": {},
   "outputs": [],
   "source": []
  }
 ],
 "metadata": {
  "kernelspec": {
   "display_name": "Python 3 (ipykernel)",
   "language": "python",
   "name": "python3"
  },
  "language_info": {
   "codemirror_mode": {
    "name": "ipython",
    "version": 3
   },
   "file_extension": ".py",
   "mimetype": "text/x-python",
   "name": "python",
   "nbconvert_exporter": "python",
   "pygments_lexer": "ipython3",
   "version": "3.9.13"
  }
 },
 "nbformat": 4,
 "nbformat_minor": 5
}
